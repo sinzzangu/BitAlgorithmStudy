{
 "cells": [
  {
   "cell_type": "code",
   "execution_count": 3,
   "id": "0c46b240",
   "metadata": {},
   "outputs": [
    {
     "data": {
      "text/plain": [
       "'LRLLLRLLRRL'"
      ]
     },
     "execution_count": 3,
     "metadata": {},
     "output_type": "execute_result"
    }
   ],
   "source": [
    "def distence(a,b):\n",
    "    if a == 0:\n",
    "        a = 11\n",
    "    elif b == 0:\n",
    "        b = 11\n",
    "    return (abs(a-b)//3) + (abs(a-b)%3)\n",
    "\n",
    "def solution(numbers, hand):\n",
    "    answer = ''\n",
    "    left_point = 10\n",
    "    right_point = 12\n",
    "    for num in numbers:\n",
    "        if num == 0:\n",
    "            num = 11\n",
    "\n",
    "        if num in (1,4,7):\n",
    "            answer += 'L'\n",
    "            left_point = num\n",
    "        elif num in (3,6,9):\n",
    "            answer += 'R'\n",
    "            right_point = num\n",
    "        else:\n",
    "            if(distence(num, left_point) < distence(num, right_point)):\n",
    "                answer += 'L'\n",
    "                left_point = num\n",
    "            elif(distence(num, left_point) > distence(num, right_point)):\n",
    "                answer += 'R'\n",
    "                right_point = num\n",
    "            elif(distence(num, left_point) == distence(num, right_point)):\n",
    "                if(hand == 'right'):\n",
    "                    right_point = num\n",
    "                    answer += 'R'\n",
    "                else:\n",
    "                    left_point = num\n",
    "                    answer += 'L'\n",
    "    \n",
    "    return answer\n",
    "\n",
    "solution([1, 3, 4, 5, 8, 2, 1, 4, 5, 9, 5],\"right\")"
   ]
  }
 ],
 "metadata": {
  "kernelspec": {
   "display_name": "Python 3 (ipykernel)",
   "language": "python",
   "name": "python3"
  },
  "language_info": {
   "codemirror_mode": {
    "name": "ipython",
    "version": 3
   },
   "file_extension": ".py",
   "mimetype": "text/x-python",
   "name": "python",
   "nbconvert_exporter": "python",
   "pygments_lexer": "ipython3",
   "version": "3.8.13"
  }
 },
 "nbformat": 4,
 "nbformat_minor": 5
}
