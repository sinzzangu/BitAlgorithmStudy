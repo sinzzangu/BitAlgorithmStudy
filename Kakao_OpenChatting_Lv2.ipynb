{
 "cells": [
  {
   "cell_type": "code",
   "execution_count": null,
   "id": "755c0b30",
   "metadata": {},
   "outputs": [],
   "source": [
    "def solution(record):\n",
    "    answer = []\n",
    "    d ={}\n",
    "    records = []\n",
    "\n",
    "    for i in record:\n",
    "        records.append(list(i.split()))\n",
    "\n",
    "    for j in records:\n",
    "        if(j[0]=='Enter' or j[0]=='Change'):\n",
    "            d[j[1]] = j[2]\n",
    "\n",
    "    for i in records:\n",
    "        if(i[0]=='Enter'):\n",
    "            result = \"{0}님이 들어왔습니다.\".format(d[i[1]])\n",
    "            answer.append(result)\n",
    "        elif(i[0]=='Leave'):\n",
    "            result = \"{0}님이 나갔습니다.\".format(d[i[1]])\n",
    "            answer.append(result)\n",
    "            \n",
    "    return answer"
   ]
  }
 ],
 "metadata": {
  "kernelspec": {
   "display_name": "Python 3 (ipykernel)",
   "language": "python",
   "name": "python3"
  },
  "language_info": {
   "codemirror_mode": {
    "name": "ipython",
    "version": 3
   },
   "file_extension": ".py",
   "mimetype": "text/x-python",
   "name": "python",
   "nbconvert_exporter": "python",
   "pygments_lexer": "ipython3",
   "version": "3.8.13"
  }
 },
 "nbformat": 4,
 "nbformat_minor": 5
}
