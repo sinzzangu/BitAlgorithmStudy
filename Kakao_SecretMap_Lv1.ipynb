{
 "cells": [
  {
   "cell_type": "code",
   "execution_count": null,
   "id": "34d1d45d",
   "metadata": {},
   "outputs": [],
   "source": [
    "def solution(n, arr1, arr2):\n",
    "    answer = []\n",
    "    result = []\n",
    "    \n",
    "    arr_1 = []\n",
    "    for i in arr1:\n",
    "        arr_1.append(bin(i))\n",
    "\n",
    "    arr_2 = []\n",
    "    for i in arr2:\n",
    "        arr_2.append(bin(i))\n",
    "\n",
    "    arr1 = []\n",
    "    for i in arr_1:\n",
    "        tmp = i.replace('0b', '')\n",
    "        arr1.append(tmp)\n",
    "\n",
    "    arr_1 = list(map(int, arr1))\n",
    "\n",
    "    arr2 = []\n",
    "    for i in arr_2:\n",
    "        tmp = i.replace('0b', '')\n",
    "        arr2.append(tmp)\n",
    "\n",
    "    arr_2 = list(map(int, arr2))\n",
    "\n",
    "    arr_int = [arr_1[i] + arr_2[i] for i in range(len(arr_1))]\n",
    "\n",
    "    arr_sum = list(map(str, arr_int))\n",
    "\n",
    "    for i in arr_sum:\n",
    "        if(len(i) != n):\n",
    "            while(len(i) != n):\n",
    "                i = \"0\" + i\n",
    "        result.append(i)\n",
    "\n",
    "    for i in result:\n",
    "        tmp = i.replace('2', '#').replace('1', '#').replace('0', ' ')\n",
    "        answer.append(tmp)\n",
    "    \n",
    "    return answer"
   ]
  },
  {
   "cell_type": "markdown",
   "id": "9a246fed",
   "metadata": {},
   "source": [
    "# 이 밑은 풀이했던 과정입니다."
   ]
  },
  {
   "cell_type": "code",
   "execution_count": null,
   "id": "1042426c",
   "metadata": {},
   "outputs": [],
   "source": [
    "n = 6\n",
    "arr1 = [46, 33, 33 ,22, 31, 50]\n",
    "arr2 = [27 ,56, 19, 14, 14, 10]\n",
    "answer = []\n",
    "result = []"
   ]
  },
  {
   "cell_type": "code",
   "execution_count": null,
   "id": "444b56e6",
   "metadata": {},
   "outputs": [],
   "source": [
    "arr_1 = []\n",
    "for i in arr1:\n",
    "    arr_1.append(bin(i))\n",
    "\n",
    "arr_2 = []\n",
    "for i in arr2:\n",
    "    arr_2.append(bin(i))"
   ]
  },
  {
   "cell_type": "code",
   "execution_count": null,
   "id": "9cf480f0",
   "metadata": {},
   "outputs": [],
   "source": [
    "arr1 = []\n",
    "for i in arr_1:\n",
    "    tmp = i.replace('0b', '')\n",
    "    arr1.append(tmp)\n",
    "print(arr1)\n",
    "\n",
    "arr_1 = list(map(int, arr1))\n",
    "print(\"arr_1 :\", arr_1)"
   ]
  },
  {
   "cell_type": "code",
   "execution_count": null,
   "id": "aa62507f",
   "metadata": {},
   "outputs": [],
   "source": [
    "arr2 = []\n",
    "for i in arr_2:\n",
    "    tmp = i.replace('0b', '')\n",
    "    arr2.append(tmp)\n",
    "print(arr2)\n",
    "\n",
    "arr_2 = list(map(int, arr2))\n",
    "print(\"arr_2 :\", arr_2)"
   ]
  },
  {
   "cell_type": "code",
   "execution_count": null,
   "id": "8e02ae8d",
   "metadata": {},
   "outputs": [],
   "source": [
    "arr_int = [arr_1[i] + arr_2[i] for i in range(len(arr_1))]\n",
    "print(\"arr_int :\", arr_int)\n",
    "\n",
    "arr_sum = list(map(str, arr_int))\n",
    "print(\"arr_sum :\", arr_sum)"
   ]
  },
  {
   "cell_type": "code",
   "execution_count": null,
   "id": "74dae726",
   "metadata": {},
   "outputs": [],
   "source": [
    "for i in arr_sum:\n",
    "    if(len(i) != n):\n",
    "        while(len(i) != n):\n",
    "            i = \"0\" + i\n",
    "    result.append(i)\n",
    "            \n",
    "print(result)"
   ]
  },
  {
   "cell_type": "code",
   "execution_count": null,
   "id": "b0967b58",
   "metadata": {
    "scrolled": true
   },
   "outputs": [],
   "source": [
    "for i in result:\n",
    "    tmp = i.replace('2', '#').replace('1', '#').replace('0', ' ')\n",
    "    answer.append(tmp)\n",
    "    \n",
    "print(answer)"
   ]
  },
  {
   "cell_type": "code",
   "execution_count": null,
   "id": "99b5db06",
   "metadata": {},
   "outputs": [],
   "source": [
    "arr_1 = []\n",
    "for i in arr1:\n",
    "    arr_1.append(bin(i))\n",
    "\n",
    "arr_2 = []\n",
    "for i in arr2:\n",
    "    arr_2.append(bin(i))\n",
    "    \n",
    "arr1 = []\n",
    "for i in arr_1:\n",
    "    tmp = i.replace('0b', '')\n",
    "    arr1.append(tmp)\n",
    "\n",
    "arr_1 = list(map(int, arr1))\n",
    "\n",
    "arr2 = []\n",
    "for i in arr_2:\n",
    "    tmp = i.replace('0b', '')\n",
    "    arr2.append(tmp)\n",
    "\n",
    "arr_2 = list(map(int, arr2))\n",
    "\n",
    "arr_int = [arr_1[i] + arr_2[i] for i in range(len(arr_1))]\n",
    "\n",
    "arr_sum = list(map(str, arr_int))\n",
    "\n",
    "for i in arr_sum:\n",
    "    if(len(i) != n):\n",
    "        while(len(i) != n):\n",
    "            i = \"0\" + i\n",
    "    result.append(i)\n",
    "\n",
    "for i in result:\n",
    "    tmp = i.replace('2', '#').replace('1', '#').replace('0', ' ')\n",
    "    answer.append(tmp)\n",
    "    \n",
    "print(answer)"
   ]
  },
  {
   "cell_type": "code",
   "execution_count": null,
   "id": "08331e19",
   "metadata": {},
   "outputs": [],
   "source": [
    "[\"######\", \"###  #\", \"## ##\", \" #### \", \" #####\", \"### # \"]"
   ]
  }
 ],
 "metadata": {
  "kernelspec": {
   "display_name": "Python 3 (ipykernel)",
   "language": "python",
   "name": "python3"
  },
  "language_info": {
   "codemirror_mode": {
    "name": "ipython",
    "version": 3
   },
   "file_extension": ".py",
   "mimetype": "text/x-python",
   "name": "python",
   "nbconvert_exporter": "python",
   "pygments_lexer": "ipython3",
   "version": "3.8.13"
  }
 },
 "nbformat": 4,
 "nbformat_minor": 5
}
