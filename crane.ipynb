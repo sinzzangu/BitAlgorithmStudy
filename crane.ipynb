{
 "cells": [
  {
   "cell_type": "code",
   "execution_count": 2,
   "id": "ecb9aa53",
   "metadata": {},
   "outputs": [
    {
     "name": "stdout",
     "output_type": "stream",
     "text": [
      "[4, 2, 4]\n",
      "4\n"
     ]
    }
   ],
   "source": [
    "board = [[0,0,0,0,0],\n",
    "         [0,0,1,0,3],\n",
    "         [0,2,5,0,1],\n",
    "         [4,2,4,4,2],\n",
    "         [3,5,1,3,1]]\n",
    "moves = [1,5,3,5,1,2,1,4]\n",
    "basket = []\n",
    "answer = 0\n",
    "num = 0\n",
    "for i in moves:\n",
    "    for j in range(len(board)):\n",
    "        if(board[j][i-1] > 0):\n",
    "            basket.append(board[j][i-1])\n",
    "            board[j][i-1] = 0\n",
    "            break\n",
    "    if(len(basket)>=2):\n",
    "        if(basket[-1] == basket[-2]):\n",
    "            basket.pop()\n",
    "            basket.pop()\n",
    "            answer += 2\n",
    "            \n",
    "print(basket)\n",
    "print(answer)\n",
    "\n",
    "\n",
    "            "
   ]
  },
  {
   "cell_type": "code",
   "execution_count": null,
   "id": "9dedeb03",
   "metadata": {},
   "outputs": [],
   "source": []
  }
 ],
 "metadata": {
  "kernelspec": {
   "display_name": "Python 3 (ipykernel)",
   "language": "python",
   "name": "python3"
  },
  "language_info": {
   "codemirror_mode": {
    "name": "ipython",
    "version": 3
   },
   "file_extension": ".py",
   "mimetype": "text/x-python",
   "name": "python",
   "nbconvert_exporter": "python",
   "pygments_lexer": "ipython3",
   "version": "3.8.13"
  }
 },
 "nbformat": 4,
 "nbformat_minor": 5
}
