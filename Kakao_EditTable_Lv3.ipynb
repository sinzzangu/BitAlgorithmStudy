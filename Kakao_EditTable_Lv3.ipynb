{
 "cells": [
  {
   "cell_type": "code",
   "execution_count": 1,
   "id": "e7a1858a",
   "metadata": {},
   "outputs": [],
   "source": [
    "# 미완성!!\n",
    "\n",
    "def solution(n, k, cmd):\n",
    "    answer = ''\n",
    "    selected = k\n",
    "    row = [i for i in range(n)]  # 행 번호 배열\n",
    "    deleted_list = []  # 삭제된 항목들\n",
    "\n",
    "    for i in cmd:\n",
    "        if(len(i) == 3):\n",
    "            a, b = i.split(\" \")\n",
    "            if(a == 'U'):\n",
    "                selected -= int(b)\n",
    "            elif(a == 'D'):\n",
    "                selected += int(b)\n",
    "                \n",
    "        else:\n",
    "            if(i == 'C'):\n",
    "                deleted_list.append(selected)\n",
    "                row.remove(selected)\n",
    "                if(selected == len(row)): # 현재 행이 마지막 행이면\n",
    "                    selected -= 1         # 현재 행 -1\n",
    "                \n",
    "            elif(i == 'Z'):\n",
    "                num = deleted_list.pop()\n",
    "                row.append(num)\n",
    "                if(selected > num): # 현재 행이 추가되는 행보다 크면\n",
    "                    selected += 1   # 현재 행 +1\n",
    "\n",
    "    for i in range(n):\n",
    "        if(i in row):\n",
    "            answer += \"O\"\n",
    "        else:\n",
    "            answer += \"X\"\n",
    "    \n",
    "    return answer"
   ]
  },
  {
   "cell_type": "code",
   "execution_count": null,
   "id": "b1c30c9e",
   "metadata": {},
   "outputs": [],
   "source": []
  }
 ],
 "metadata": {
  "kernelspec": {
   "display_name": "Python 3 (ipykernel)",
   "language": "python",
   "name": "python3"
  },
  "language_info": {
   "codemirror_mode": {
    "name": "ipython",
    "version": 3
   },
   "file_extension": ".py",
   "mimetype": "text/x-python",
   "name": "python",
   "nbconvert_exporter": "python",
   "pygments_lexer": "ipython3",
   "version": "3.8.13"
  }
 },
 "nbformat": 4,
 "nbformat_minor": 5
}
