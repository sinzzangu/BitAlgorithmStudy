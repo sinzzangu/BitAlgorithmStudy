{
 "cells": [
  {
   "cell_type": "code",
   "execution_count": 1,
   "id": "aee18857",
   "metadata": {},
   "outputs": [],
   "source": [
    "def solution(n):\n",
    "    ans_dict={2:[2,1], 4:[8,3]}\n",
    "    \n",
    "    if n%2==1:\n",
    "        return 0\n",
    "    \n",
    "    else:\n",
    "        if n > 5:    \n",
    "            i = 4\n",
    "            while i!=n:\n",
    "                i += 2\n",
    "                a = ans_dict[i]=3*ans_dict[i-2][0]+2*ans_dict[i-2][1]\n",
    "                b = ans_dict[i]=ans_dict[i-2][0]+ans_dict[i-2][1]\n",
    "                ans_dict[i]=[a,b]\n",
    "                \n",
    "        return (ans_dict[n][0]+ans_dict[n][1])%1000000007"
   ]
  },
  {
   "cell_type": "code",
   "execution_count": 2,
   "id": "a4924122",
   "metadata": {},
   "outputs": [
    {
     "data": {
      "text/plain": [
       "11"
      ]
     },
     "execution_count": 2,
     "metadata": {},
     "output_type": "execute_result"
    }
   ],
   "source": [
    "solution(4)"
   ]
  },
  {
   "cell_type": "code",
   "execution_count": null,
   "id": "2f983f93",
   "metadata": {},
   "outputs": [],
   "source": []
  }
 ],
 "metadata": {
  "kernelspec": {
   "display_name": "Python 3 (ipykernel)",
   "language": "python",
   "name": "python3"
  },
  "language_info": {
   "codemirror_mode": {
    "name": "ipython",
    "version": 3
   },
   "file_extension": ".py",
   "mimetype": "text/x-python",
   "name": "python",
   "nbconvert_exporter": "python",
   "pygments_lexer": "ipython3",
   "version": "3.8.13"
  }
 },
 "nbformat": 4,
 "nbformat_minor": 5
}
