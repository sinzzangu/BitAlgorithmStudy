{
 "cells": [
  {
   "cell_type": "code",
   "execution_count": null,
   "id": "1d572666",
   "metadata": {},
   "outputs": [],
   "source": [
    "def solution(s):\n",
    "    answer = []\n",
    "    zeros = 0\n",
    "    bin_trans = 0\n",
    "    \n",
    "    while(s != '1'):\n",
    "        temp = ''\n",
    "        for i in s:\n",
    "            if(i == '1'):\n",
    "                temp += i\n",
    "            else:\n",
    "                zeros += 1\n",
    "\n",
    "        s = temp\n",
    "\n",
    "        s = toBinary(len(s))\n",
    "        bin_trans += 1\n",
    "        \n",
    "    answer.append(bin_trans)\n",
    "    answer.append(zeros)\n",
    "    \n",
    "    return answer\n",
    "\n",
    "\n",
    "def toBinary(n):\n",
    "    return bin(n)[2:]"
   ]
  }
 ],
 "metadata": {
  "kernelspec": {
   "display_name": "Python 3 (ipykernel)",
   "language": "python",
   "name": "python3"
  },
  "language_info": {
   "codemirror_mode": {
    "name": "ipython",
    "version": 3
   },
   "file_extension": ".py",
   "mimetype": "text/x-python",
   "name": "python",
   "nbconvert_exporter": "python",
   "pygments_lexer": "ipython3",
   "version": "3.8.13"
  }
 },
 "nbformat": 4,
 "nbformat_minor": 5
}
