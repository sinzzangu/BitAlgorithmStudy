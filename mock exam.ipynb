{
 "cells": [
  {
   "cell_type": "code",
   "execution_count": 1,
   "id": "f61be4f2",
   "metadata": {},
   "outputs": [],
   "source": [
    "def solution(answers):\n",
    "    a=[1,2,3,4,5]\n",
    "    b=[2,1,2,3,2,4,2,5]\n",
    "    c=[3,3,1,1,2,2,4,4,5,5]\n",
    "    a_score=0\n",
    "    b_score=0\n",
    "    c_score=0\n",
    "    \n",
    "    for i in range(len(answers)):\n",
    "        if (answers[i]==a[i%5]):\n",
    "            a_score+=1\n",
    "        if (answers[i]==b[i%8]):\n",
    "            b_score+=1\n",
    "        if (answers[i]==c[i%10]):\n",
    "            c_score+=1\n",
    "    \n",
    "    answers=[a_score,b_score,c_score]\n",
    "    answer=[]\n",
    "    \n",
    "    if (a_score==max(answers)):\n",
    "        answer.append(1)\n",
    "    if (b_score==max(answers)):\n",
    "        answer.append(2)\n",
    "    if (c_score==max(answers)):\n",
    "        answer.append(3)\n",
    "    \n",
    "    return answer"
   ]
  },
  {
   "cell_type": "code",
   "execution_count": null,
   "id": "530a1384",
   "metadata": {},
   "outputs": [],
   "source": [
    "solution([1,2,3,4,5])\n",
    "solution([1,3,2,4,2])"
   ]
  }
 ],
 "metadata": {
  "kernelspec": {
   "display_name": "Python 3 (ipykernel)",
   "language": "python",
   "name": "python3"
  },
  "language_info": {
   "codemirror_mode": {
    "name": "ipython",
    "version": 3
   },
   "file_extension": ".py",
   "mimetype": "text/x-python",
   "name": "python",
   "nbconvert_exporter": "python",
   "pygments_lexer": "ipython3",
   "version": "3.8.13"
  }
 },
 "nbformat": 4,
 "nbformat_minor": 5
}
