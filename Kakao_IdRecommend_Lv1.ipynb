{
 "cells": [
  {
   "cell_type": "code",
   "execution_count": null,
   "id": "701a9a45",
   "metadata": {},
   "outputs": [],
   "source": [
    "def solution(new_id):\n",
    "    answer = ''\n",
    "    \n",
    "    new_id = new_id.lower()\n",
    "\n",
    "    for i in new_id:\n",
    "        if(i.isalpha() == False):\n",
    "            if(i.isdigit() == False):\n",
    "                if(i != \"-\" and i != \"_\" and i != \".\"):\n",
    "                    new_id = new_id.replace(i,\"\")\n",
    "\n",
    "    while(\"..\" in new_id):\n",
    "        new_id = new_id.replace(\"..\", \".\")\n",
    "\n",
    "    if(new_id[0] == \".\"):\n",
    "        new_id = new_id[1:len(new_id)]\n",
    "    if(len(new_id) != 0):\n",
    "        if(new_id.strip()[-1] == \".\"):\n",
    "            new_id = new_id[:-1]\n",
    "\n",
    "    if(len(new_id) == 0):\n",
    "        new_id = \"a\"\n",
    "\n",
    "    if(len(new_id) > 15):\n",
    "        new_id = new_id[0:15]\n",
    "    if(new_id[len(new_id)-1] == \".\"):\n",
    "        new_id = new_id[:-1]\n",
    "\n",
    "    if(len(new_id) <= 2):\n",
    "        while(len(new_id)<3):\n",
    "            new_id = new_id + new_id.strip()[-1]\n",
    "            \n",
    "    answer = new_id\n",
    "    return answer"
   ]
  }
 ],
 "metadata": {
  "kernelspec": {
   "display_name": "Python 3 (ipykernel)",
   "language": "python",
   "name": "python3"
  },
  "language_info": {
   "codemirror_mode": {
    "name": "ipython",
    "version": 3
   },
   "file_extension": ".py",
   "mimetype": "text/x-python",
   "name": "python",
   "nbconvert_exporter": "python",
   "pygments_lexer": "ipython3",
   "version": "3.8.13"
  }
 },
 "nbformat": 4,
 "nbformat_minor": 5
}
