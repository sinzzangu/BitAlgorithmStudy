{
 "cells": [
  {
   "cell_type": "code",
   "execution_count": 1,
   "id": "d2429fb4",
   "metadata": {},
   "outputs": [],
   "source": [
    "def distance(a,b):\n",
    "    if a==0:\n",
    "        a==11\n",
    "    if b==0:\n",
    "        b=11\n",
    "    return (abs(a-b)//3)+(abs(a-b)%3)\n",
    "\n",
    "def solution(numbers, hand):\n",
    "    L=10\n",
    "    R=12\n",
    "    answer = ''\n",
    "    \n",
    "    for i in numbers:\n",
    "        if i==0:\n",
    "            i=11\n",
    "            \n",
    "        if i==1 or i==4 or i==7:\n",
    "            L=i\n",
    "            answer+='L'          \n",
    "        elif i==3 or i==6 or i==9:\n",
    "            R=i\n",
    "            answer+='R'\n",
    "        else:\n",
    "            if distance(i,L)>distance(i,R):\n",
    "                R=i\n",
    "                answer+='R'\n",
    "            elif distance(i,L)<distance(i,R):\n",
    "                L=i\n",
    "                answer+='L'\n",
    "            else:\n",
    "                if hand=='right':\n",
    "                    R=i\n",
    "                    answer+='R'\n",
    "                else :\n",
    "                    L=i\n",
    "                    answer+='L'\n",
    "    \n",
    "    return answer"
   ]
  },
  {
   "cell_type": "code",
   "execution_count": 2,
   "id": "03ded690",
   "metadata": {},
   "outputs": [
    {
     "data": {
      "text/plain": [
       "'LRLLRRLLLRR'"
      ]
     },
     "execution_count": 2,
     "metadata": {},
     "output_type": "execute_result"
    }
   ],
   "source": [
    "solution([7, 0, 8, 2, 8, 3, 1, 5, 7, 6, 2],'Left')"
   ]
  },
  {
   "cell_type": "code",
   "execution_count": null,
   "id": "8516883d",
   "metadata": {},
   "outputs": [],
   "source": []
  }
 ],
 "metadata": {
  "kernelspec": {
   "display_name": "Python 3 (ipykernel)",
   "language": "python",
   "name": "python3"
  },
  "language_info": {
   "codemirror_mode": {
    "name": "ipython",
    "version": 3
   },
   "file_extension": ".py",
   "mimetype": "text/x-python",
   "name": "python",
   "nbconvert_exporter": "python",
   "pygments_lexer": "ipython3",
   "version": "3.8.13"
  }
 },
 "nbformat": 4,
 "nbformat_minor": 5
}
