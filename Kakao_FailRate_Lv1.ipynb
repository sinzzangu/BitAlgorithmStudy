{
 "cells": [
  {
   "cell_type": "code",
   "execution_count": null,
   "id": "9270d398",
   "metadata": {},
   "outputs": [],
   "source": [
    "def solution(N, stages):\n",
    "    answer = []\n",
    "    dict = {}\n",
    "    \n",
    "    total = len(stages)\n",
    "\n",
    "    for i in range(1, N+1):\n",
    "        stage_player = stages.count(i)\n",
    "\n",
    "        if(stage_player == 0):\n",
    "            dict[i] = 0\n",
    "        else:\n",
    "            fail_rate = stage_player / total\n",
    "            dict[i] = fail_rate\n",
    "            total -= stage_player\n",
    "\n",
    "    result = sorted(dict.items(), key=lambda x: x[1], reverse=True)\n",
    "\n",
    "    answer = [result[i][0] for i in range(len(result))]\n",
    "    \n",
    "    return answer"
   ]
  }
 ],
 "metadata": {
  "kernelspec": {
   "display_name": "Python 3 (ipykernel)",
   "language": "python",
   "name": "python3"
  },
  "language_info": {
   "codemirror_mode": {
    "name": "ipython",
    "version": 3
   },
   "file_extension": ".py",
   "mimetype": "text/x-python",
   "name": "python",
   "nbconvert_exporter": "python",
   "pygments_lexer": "ipython3",
   "version": "3.8.13"
  }
 },
 "nbformat": 4,
 "nbformat_minor": 5
}
