{
 "cells": [
  {
   "cell_type": "markdown",
   "id": "56f1be7c",
   "metadata": {},
   "source": [
    "## 키패드 누르기"
   ]
  },
  {
   "cell_type": "code",
   "execution_count": 25,
   "id": "41c2eed5",
   "metadata": {},
   "outputs": [],
   "source": [
    "numbers = [1, 2, 3, 4, 5, 6, 7, 8, 9, 0]\n",
    "hand = \"right\"\n",
    "answer = \"\""
   ]
  },
  {
   "cell_type": "code",
   "execution_count": 26,
   "id": "83a37b7e",
   "metadata": {},
   "outputs": [
    {
     "name": "stdout",
     "output_type": "stream",
     "text": [
      "1 L 1 12\n",
      "1 4\n",
      "2 LL 2 12\n",
      "3 LLR 2 3\n",
      "4 LLRL 4 3\n",
      "1 2\n",
      "5 LLRLL 5 3\n",
      "6 LLRLLR 5 6\n",
      "7 LLRLLRL 7 6\n",
      "1 2\n",
      "8 LLRLLRLL 8 6\n",
      "9 LLRLLRLLR 8 9\n",
      "1 2\n",
      "11 LLRLLRLLRL 11 9\n",
      "\n",
      "LLRLLRLLRL\n"
     ]
    }
   ],
   "source": [
    "L = 10\n",
    "R = 12\n",
    "\n",
    "for i in range(len(numbers)):\n",
    "    if(numbers[i] == 0):\n",
    "        numbers[i] = 11\n",
    "        \n",
    "for i in numbers:\n",
    "    if(i == 2 or i == 5 or i == 8 or i == 11):\n",
    "        d1 = (abs(i - L) // 3) + (abs(i - L) % 3)\n",
    "        d2 = (abs(i - R) // 3) + (abs(i - R) % 3)\n",
    "        print(d1, d2)\n",
    "        \n",
    "        if(d1 < d2):\n",
    "            answer += \"L\"\n",
    "            L = i\n",
    "        elif(d1 > d2):\n",
    "            answer += \"R\"\n",
    "            R = i\n",
    "        elif(d1 == d2):\n",
    "            if(hand == 'left'):\n",
    "                answer += \"L\"\n",
    "                L = i\n",
    "            else:\n",
    "                answer += \"R\"\n",
    "                R = i\n",
    "            \n",
    "    elif(i == 1 or i == 4 or i == 7):\n",
    "        answer += \"L\"\n",
    "        L = i\n",
    "        \n",
    "    elif(i == 3 or i == 6 or i == 9):\n",
    "        answer += \"R\"\n",
    "        R = i\n",
    "        \n",
    "    print(i, answer, L, R)\n",
    "        \n",
    "print()\n",
    "print(answer)"
   ]
  }
 ],
 "metadata": {
  "kernelspec": {
   "display_name": "Python 3 (ipykernel)",
   "language": "python",
   "name": "python3"
  },
  "language_info": {
   "codemirror_mode": {
    "name": "ipython",
    "version": 3
   },
   "file_extension": ".py",
   "mimetype": "text/x-python",
   "name": "python",
   "nbconvert_exporter": "python",
   "pygments_lexer": "ipython3",
   "version": "3.8.13"
  }
 },
 "nbformat": 4,
 "nbformat_minor": 5
}
