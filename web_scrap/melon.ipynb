{
 "cells": [
  {
   "cell_type": "code",
   "execution_count": 4,
   "id": "d3beb821",
   "metadata": {},
   "outputs": [],
   "source": [
    "from bs4 import BeautifulSoup\n",
    "import requests"
   ]
  },
  {
   "cell_type": "code",
   "execution_count": 8,
   "id": "f0111325",
   "metadata": {},
   "outputs": [
    {
     "name": "stdout",
     "output_type": "stream",
     "text": [
      "<class 'bs4.BeautifulSoup'>\n"
     ]
    }
   ],
   "source": [
    "url = \"https://www.melon.com/chart/index.htm\"\n",
    "header = {'User-agent':'Mozilla/5.0'} #  header 추가함으로서 우리가 브라우저를 통해서 접속한게 되는거임\n",
    "melon_top_html = requests.get(url, headers = header).text\n",
    "melon_top_soup = BeautifulSoup(melon_top_html, 'lxml')\n",
    "print(type(melon_top_soup))"
   ]
  },
  {
   "cell_type": "code",
   "execution_count": 10,
   "id": "87d8267d",
   "metadata": {},
   "outputs": [],
   "source": [
    "song_div = melon_top_soup.select('div.wrap_song_info')"
   ]
  },
  {
   "cell_type": "code",
   "execution_count": 11,
   "id": "71bd42a1",
   "metadata": {},
   "outputs": [
    {
     "name": "stdout",
     "output_type": "stream",
     "text": [
      "[<div class=\"wrap_song_info\">\n",
      "<div class=\"ellipsis rank01\"><span>\n",
      "<a href=\"javascript:melon.play.playSong('1000002721',35383397);\" title=\"그때 그 순간 그대로 (그그그) 재생\">그때 그 순간 그대로 (그그그)</a>\n",
      "</span></div><br/>\n",
      "<div class=\"ellipsis rank02\">\n",
      "<a href=\"javascript:melon.link.goArtistDetail('3110856');\" title=\"WSG워너비 (가야G) - 페이지 이동\">WSG워너비 (가야G)</a><span class=\"checkEllipsis\" style=\"display:none\"><a href=\"javascript:melon.link.goArtistDetail('3110856');\" title=\"WSG워너비 (가야G) - 페이지 이동\">WSG워너비 (가야G)</a></span>\n",
      "</div>\n",
      "</div>, <div class=\"wrap_song_info\">\n",
      "<div class=\"ellipsis rank03\">\n",
      "<a href=\"javascript:melon.link.goAlbumDetail('11000171');\" title=\"WSG워너비 1집 - 페이지 이동\">WSG워너비 1집</a>\n",
      "</div>\n",
      "</div>, <div class=\"wrap_song_info\">\n",
      "<div class=\"ellipsis rank01\"><span>\n",
      "<a href=\"javascript:melon.play.playSong('1000002721',35383398);\" title=\"보고싶었어 재생\">보고싶었어</a>\n",
      "</span></div><br/>\n",
      "<div class=\"ellipsis rank02\">\n",
      "<a href=\"javascript:melon.link.goArtistDetail('3110857');\" title=\"WSG워너비 (4FIRE) - 페이지 이동\">WSG워너비 (4FIRE)</a><span class=\"checkEllipsis\" style=\"display:none\"><a href=\"javascript:melon.link.goArtistDetail('3110857');\" title=\"WSG워너비 (4FIRE) - 페이지 이동\">WSG워너비 (4FIRE)</a></span>\n",
      "</div>\n",
      "</div>]\n"
     ]
    }
   ],
   "source": [
    "print(song_div[:3])"
   ]
  },
  {
   "cell_type": "code",
   "execution_count": 32,
   "id": "cab16a8f",
   "metadata": {},
   "outputs": [],
   "source": [
    "a_list = melon_top_soup.select('div.rank01 a')"
   ]
  },
  {
   "cell_type": "code",
   "execution_count": 28,
   "id": "33914e4b",
   "metadata": {},
   "outputs": [
    {
     "name": "stdout",
     "output_type": "stream",
     "text": [
      "<class 'bs4.element.ResultSet'>\n"
     ]
    }
   ],
   "source": [
    "print(type(a_list))"
   ]
  },
  {
   "cell_type": "code",
   "execution_count": 38,
   "id": "df0e865a",
   "metadata": {},
   "outputs": [
    {
     "name": "stdout",
     "output_type": "stream",
     "text": [
      "['WSG워너비 (가야G)', 'WSG워너비 (가야G)', 'WSG워너비 (4FIRE)']\n"
     ]
    }
   ],
   "source": [
    "titles = [element.get_text() for element in a_list]\n",
    "print(titles[:3])"
   ]
  },
  {
   "cell_type": "code",
   "execution_count": 64,
   "id": "615a8c0f",
   "metadata": {},
   "outputs": [],
   "source": [
    "charts = dict()\n",
    "table = melon_top_soup.select('tbody')[0]\n",
    "for t in table.find_all('tr'):\n",
    "    music_id=t['data-song-no'].replace('\\n','')\n",
    "    rank=t.find(class_='rank').get_text().replace('\\n','')\n",
    "    change=t.find(class_='rank_wrap').get_text().replace('\\n','')\n",
    "    title=t.find(class_='ellipsis rank01').get_text().replace('\\n','')\n",
    "    artist=t.find(class_='checkEllipsis').get_text().replace('\\n','')\n",
    "    album=t.find(class_='ellipsis rank03').get_text().replace('\\n','')\n",
    "    charts[rank]={'id':music_id,'rank':rank,'change':change, 'title':title,'artist':artist,'album':album}"
   ]
  },
  {
   "cell_type": "code",
   "execution_count": 65,
   "id": "199eb4f7",
   "metadata": {},
   "outputs": [
    {
     "data": {
      "text/html": [
       "<div>\n",
       "<style scoped>\n",
       "    .dataframe tbody tr th:only-of-type {\n",
       "        vertical-align: middle;\n",
       "    }\n",
       "\n",
       "    .dataframe tbody tr th {\n",
       "        vertical-align: top;\n",
       "    }\n",
       "\n",
       "    .dataframe thead th {\n",
       "        text-align: right;\n",
       "    }\n",
       "</style>\n",
       "<table border=\"1\" class=\"dataframe\">\n",
       "  <thead>\n",
       "    <tr style=\"text-align: right;\">\n",
       "      <th></th>\n",
       "      <th>id</th>\n",
       "      <th>change</th>\n",
       "      <th>title</th>\n",
       "      <th>artist</th>\n",
       "      <th>album</th>\n",
       "    </tr>\n",
       "    <tr>\n",
       "      <th>rank</th>\n",
       "      <th></th>\n",
       "      <th></th>\n",
       "      <th></th>\n",
       "      <th></th>\n",
       "      <th></th>\n",
       "    </tr>\n",
       "  </thead>\n",
       "  <tbody>\n",
       "    <tr>\n",
       "      <th>1</th>\n",
       "      <td>35383397</td>\n",
       "      <td>순위 동일0</td>\n",
       "      <td>그때 그 순간 그대로 (그그그)</td>\n",
       "      <td>WSG워너비 (가야G)</td>\n",
       "      <td>WSG워너비 1집</td>\n",
       "    </tr>\n",
       "    <tr>\n",
       "      <th>2</th>\n",
       "      <td>35383398</td>\n",
       "      <td>순위 동일0</td>\n",
       "      <td>보고싶었어</td>\n",
       "      <td>WSG워너비 (4FIRE)</td>\n",
       "      <td>WSG워너비 1집</td>\n",
       "    </tr>\n",
       "    <tr>\n",
       "      <th>3</th>\n",
       "      <td>34847378</td>\n",
       "      <td>순위 동일0</td>\n",
       "      <td>LOVE DIVE</td>\n",
       "      <td>IVE (아이브)</td>\n",
       "      <td>LOVE DIVE</td>\n",
       "    </tr>\n",
       "    <tr>\n",
       "      <th>4</th>\n",
       "      <td>35333345</td>\n",
       "      <td>순위 동일0</td>\n",
       "      <td>POP!</td>\n",
       "      <td>나연 (TWICE)</td>\n",
       "      <td>IM NAYEON</td>\n",
       "    </tr>\n",
       "    <tr>\n",
       "      <th>5</th>\n",
       "      <td>34927767</td>\n",
       "      <td>단계 상승2</td>\n",
       "      <td>정이라고 하자 (Feat. 10CM)</td>\n",
       "      <td>BIG Naughty (서동현)</td>\n",
       "      <td>정이라고 하자</td>\n",
       "    </tr>\n",
       "    <tr>\n",
       "      <th>...</th>\n",
       "      <td>...</td>\n",
       "      <td>...</td>\n",
       "      <td>...</td>\n",
       "      <td>...</td>\n",
       "      <td>...</td>\n",
       "    </tr>\n",
       "    <tr>\n",
       "      <th>96</th>\n",
       "      <td>33239419</td>\n",
       "      <td>순위 진입</td>\n",
       "      <td>Celebrity</td>\n",
       "      <td>아이유</td>\n",
       "      <td>IU 5th Album 'LILAC'</td>\n",
       "    </tr>\n",
       "    <tr>\n",
       "      <th>97</th>\n",
       "      <td>33372781</td>\n",
       "      <td>순위 진입</td>\n",
       "      <td>라일락</td>\n",
       "      <td>아이유</td>\n",
       "      <td>IU 5th Album 'LILAC'</td>\n",
       "    </tr>\n",
       "    <tr>\n",
       "      <th>98</th>\n",
       "      <td>30287019</td>\n",
       "      <td>순위 진입</td>\n",
       "      <td>롤린 (Rollin')</td>\n",
       "      <td>브레이브걸스</td>\n",
       "      <td>Rollin'</td>\n",
       "    </tr>\n",
       "    <tr>\n",
       "      <th>99</th>\n",
       "      <td>35268787</td>\n",
       "      <td>순위 진입</td>\n",
       "      <td>낭만교향곡 (Feat. CHANGMO, 박재범)</td>\n",
       "      <td>BIG Naughty (서동현)</td>\n",
       "      <td>낭만</td>\n",
       "    </tr>\n",
       "    <tr>\n",
       "      <th>100</th>\n",
       "      <td>33448767</td>\n",
       "      <td>순위 진입</td>\n",
       "      <td>문득</td>\n",
       "      <td>BE'O (비오)</td>\n",
       "      <td>Bipolar</td>\n",
       "    </tr>\n",
       "  </tbody>\n",
       "</table>\n",
       "<p>100 rows × 5 columns</p>\n",
       "</div>"
      ],
      "text/plain": [
       "            id  change                       title             artist  \\\n",
       "rank                                                                    \n",
       "1     35383397  순위 동일0           그때 그 순간 그대로 (그그그)       WSG워너비 (가야G)   \n",
       "2     35383398  순위 동일0                       보고싶었어     WSG워너비 (4FIRE)   \n",
       "3     34847378  순위 동일0                   LOVE DIVE          IVE (아이브)   \n",
       "4     35333345  순위 동일0                        POP!         나연 (TWICE)   \n",
       "5     34927767  단계 상승2        정이라고 하자 (Feat. 10CM)  BIG Naughty (서동현)   \n",
       "...        ...     ...                         ...                ...   \n",
       "96    33239419   순위 진입                   Celebrity                아이유   \n",
       "97    33372781   순위 진입                         라일락                아이유   \n",
       "98    30287019   순위 진입                롤린 (Rollin')             브레이브걸스   \n",
       "99    35268787   순위 진입  낭만교향곡 (Feat. CHANGMO, 박재범)  BIG Naughty (서동현)   \n",
       "100   33448767   순위 진입                          문득          BE'O (비오)   \n",
       "\n",
       "                     album  \n",
       "rank                        \n",
       "1                WSG워너비 1집  \n",
       "2                WSG워너비 1집  \n",
       "3                LOVE DIVE  \n",
       "4                IM NAYEON  \n",
       "5                  정이라고 하자  \n",
       "...                    ...  \n",
       "96    IU 5th Album 'LILAC'  \n",
       "97    IU 5th Album 'LILAC'  \n",
       "98                 Rollin'  \n",
       "99                      낭만  \n",
       "100                Bipolar  \n",
       "\n",
       "[100 rows x 5 columns]"
      ]
     },
     "execution_count": 65,
     "metadata": {},
     "output_type": "execute_result"
    }
   ],
   "source": [
    "import pandas as pd\n",
    "pd.DataFrame(charts).transpose().set_index('rank')"
   ]
  },
  {
   "cell_type": "code",
   "execution_count": 76,
   "id": "72cc9d5a",
   "metadata": {},
   "outputs": [
    {
     "name": "stdout",
     "output_type": "stream",
     "text": [
      "100\n",
      "[<span class=\"checkEllipsis\" style=\"display:none\"><a href=\"javascript:melon.link.goArtistDetail('725985');\" title=\"지민 - 페이지 이동\">지민</a>, <a href=\"javascript:melon.link.goArtistDetail('875152');\" title=\"하성운 - 페이지 이동\">하성운</a></span>, <span class=\"checkEllipsis\" style=\"display:none\"><a href=\"javascript:melon.link.goArtistDetail('100094');\" title=\"자우림 - 페이지 이동\">자우림</a></span>]\n"
     ]
    }
   ],
   "source": [
    "singer = melon_top_soup.select('span.checkEllipsis')\n",
    "print(len(singer))\n",
    "print(singer[-11:-9])"
   ]
  },
  {
   "cell_type": "code",
   "execution_count": 72,
   "id": "806940d5",
   "metadata": {},
   "outputs": [
    {
     "name": "stdout",
     "output_type": "stream",
     "text": [
      "['WSG워너비 (가야G)', 'WSG워너비 (4FIRE)', 'IVE (아이브)', '나연 (TWICE)', 'BIG Naughty (서동현)', '싸이 (PSY)', '임영웅', '(여자)아이들', 'aespa', '임영웅', '10CM', 'ITZY (있지)', '경서', '멜로망스', '임영웅', '볼빨간사춘기', 'WSG워너비 (오아시소)', '임영웅', \"BE'O (비오)\", 'aespa', '주호', '임영웅', 'LE SSERAFIM (르세라핌)', 'BIGBANG (빅뱅)', '임영웅', '임영웅', '임영웅', '선미', '임영웅', '김민석 (멜로망스)', '임영웅', '임영웅', '임영웅', '임영웅', '이석훈', '임영웅', 'WINNER', 'IVE (아이브)', '이무진', 'Red Velvet (레드벨벳)', '경서예지, 전건호', '주시크 (Joosiq)', '방탄소년단', '세븐틴', 'Charlie Puth, 정국, 방탄소년단', '세븐틴', '케이시 (Kassy)', '#안녕', '방탄소년단', 'Charlie Puth', '(여자)아이들', '박재범', 'The Kid LAROI, Justin Bieber', '케이시 (Kassy)', '로꼬, 화사 (Hwa Sa)', '청하', 'MSG워너비(M.O.M)', 'aespa', '태연 (TAEYEON)', '방탄소년단', '다비치', '성시경', 'OneRepublic', '태연 (TAEYEON)', '방탄소년단', '주시크 (Joosiq)', '임재현', '한동근', 'STAYC(스테이씨)', 'YENA (최예나)', 'sokodomo', '아이유', 'MSG워너비(M.O.M)', '방탄소년단', '케이시 (Kassy)', '김호중', \"BE'O (비오)\", '세븐틴', '디핵 (D-Hack), PATEKO (파테코)', '김호중', '경서', '아이유', '김호중', '폴킴', 'V.O.S', '아이유', '제시 (Jessi)', 'Coldplay, 방탄소년단', 'Justin Bieber', '지민, 하성운', '자우림', '주호', '세븐틴', '폴킴', '지코 (ZICO)', '아이유', '아이유', '브레이브걸스', 'BIG Naughty (서동현)', \"BE'O (비오)\"]\n"
     ]
    }
   ],
   "source": [
    "singers = []\n",
    "for element in singer:\n",
    "    singers.append(element.get_text())\n",
    "print(singers)"
   ]
  },
  {
   "cell_type": "code",
   "execution_count": 77,
   "id": "b5baf0c3",
   "metadata": {},
   "outputs": [
    {
     "ename": "NameError",
     "evalue": "name 'cafe_name' is not defined",
     "output_type": "error",
     "traceback": [
      "\u001b[1;31m---------------------------------------------------------------------------\u001b[0m",
      "\u001b[1;31mNameError\u001b[0m                                 Traceback (most recent call last)",
      "Input \u001b[1;32mIn [77]\u001b[0m, in \u001b[0;36m<cell line: 2>\u001b[1;34m()\u001b[0m\n\u001b[0;32m      1\u001b[0m \u001b[38;5;28;01mimport\u001b[39;00m \u001b[38;5;21;01mpandas\u001b[39;00m \u001b[38;5;28;01mas\u001b[39;00m \u001b[38;5;21;01mpd\u001b[39;00m\n\u001b[1;32m----> 2\u001b[0m data \u001b[38;5;241m=\u001b[39m {\u001b[38;5;124m'\u001b[39m\u001b[38;5;124mRank\u001b[39m\u001b[38;5;124m'\u001b[39m:rank, \u001b[38;5;124m'\u001b[39m\u001b[38;5;124mCafe\u001b[39m\u001b[38;5;124m'\u001b[39m:\u001b[43mcafe_name\u001b[49m, \u001b[38;5;124m'\u001b[39m\u001b[38;5;124mMenu\u001b[39m\u001b[38;5;124m'\u001b[39m:main_menu, \u001b[38;5;124m'\u001b[39m\u001b[38;5;124mURL\u001b[39m\u001b[38;5;124m'\u001b[39m:link_url}\n\u001b[0;32m      3\u001b[0m df \u001b[38;5;241m=\u001b[39m pd\u001b[38;5;241m.\u001b[39mDataFrame(data)\n\u001b[0;32m      4\u001b[0m df\u001b[38;5;241m.\u001b[39mhead()\n",
      "\u001b[1;31mNameError\u001b[0m: name 'cafe_name' is not defined"
     ]
    }
   ],
   "source": []
  },
  {
   "cell_type": "code",
   "execution_count": null,
   "id": "2dbb6b2f",
   "metadata": {},
   "outputs": [],
   "source": []
  }
 ],
 "metadata": {
  "kernelspec": {
   "display_name": "Python 3 (ipykernel)",
   "language": "python",
   "name": "python3"
  },
  "language_info": {
   "codemirror_mode": {
    "name": "ipython",
    "version": 3
   },
   "file_extension": ".py",
   "mimetype": "text/x-python",
   "name": "python",
   "nbconvert_exporter": "python",
   "pygments_lexer": "ipython3",
   "version": "3.8.13"
  }
 },
 "nbformat": 4,
 "nbformat_minor": 5
}
