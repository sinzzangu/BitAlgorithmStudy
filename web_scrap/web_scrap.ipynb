{
 "cells": [
  {
   "cell_type": "code",
   "execution_count": 1,
   "id": "0d16163c",
   "metadata": {},
   "outputs": [],
   "source": [
    "from bs4 import BeautifulSoup"
   ]
  },
  {
   "cell_type": "code",
   "execution_count": 2,
   "id": "e5b7eece",
   "metadata": {},
   "outputs": [],
   "source": [
    "html = \"\"\"<html><body><div><span>\n",
    "        <a href=http://www.naver.com>naver</a>\n",
    "        <a href=https://www.google.com>google</a>\n",
    "        <a href=http://www.daum.net/>daum</a>\n",
    "        </span></div></body></html>\"\"\""
   ]
  },
  {
   "cell_type": "code",
   "execution_count": 4,
   "id": "ff688c42",
   "metadata": {},
   "outputs": [],
   "source": [
    "soup = BeautifulSoup(html, 'lxml')"
   ]
  },
  {
   "cell_type": "code",
   "execution_count": 6,
   "id": "a70bb3c2",
   "metadata": {},
   "outputs": [
    {
     "name": "stdout",
     "output_type": "stream",
     "text": [
      "<html><body><div><span>\n",
      "<a href=\"http://www.naver.com\">naver</a>\n",
      "<a href=\"https://www.google.com\">google</a>\n",
      "<a href=\"http://www.daum.net/\">daum</a>\n",
      "</span></div></body></html>\n"
     ]
    }
   ],
   "source": [
    "print(soup)"
   ]
  },
  {
   "cell_type": "code",
   "execution_count": 8,
   "id": "d77c0231",
   "metadata": {},
   "outputs": [
    {
     "name": "stdout",
     "output_type": "stream",
     "text": [
      "<html>\n",
      " <body>\n",
      "  <div>\n",
      "   <span>\n",
      "    <a href=\"http://www.naver.com\">\n",
      "     naver\n",
      "    </a>\n",
      "    <a href=\"https://www.google.com\">\n",
      "     google\n",
      "    </a>\n",
      "    <a href=\"http://www.daum.net/\">\n",
      "     daum\n",
      "    </a>\n",
      "   </span>\n",
      "  </div>\n",
      " </body>\n",
      "</html>\n"
     ]
    }
   ],
   "source": [
    "print(soup.prettify())"
   ]
  },
  {
   "cell_type": "code",
   "execution_count": 9,
   "id": "b5091386",
   "metadata": {},
   "outputs": [
    {
     "name": "stdout",
     "output_type": "stream",
     "text": [
      "<a href=\"http://www.naver.com\">naver</a>\n"
     ]
    }
   ],
   "source": [
    "print(soup.find('a'))"
   ]
  },
  {
   "cell_type": "code",
   "execution_count": 13,
   "id": "0a087734",
   "metadata": {},
   "outputs": [
    {
     "name": "stdout",
     "output_type": "stream",
     "text": [
      "<class 'bs4.element.ResultSet'>\n"
     ]
    }
   ],
   "source": [
    "print(type(soup.findAll('a')))"
   ]
  },
  {
   "cell_type": "code",
   "execution_count": 14,
   "id": "bc0e6ccf",
   "metadata": {},
   "outputs": [
    {
     "name": "stdout",
     "output_type": "stream",
     "text": [
      "naver\n"
     ]
    }
   ],
   "source": [
    "print(soup.find('a').get_text())"
   ]
  },
  {
   "cell_type": "code",
   "execution_count": 17,
   "id": "b21201f9",
   "metadata": {},
   "outputs": [
    {
     "name": "stdout",
     "output_type": "stream",
     "text": [
      "<class 'bs4.element.ResultSet'>\n"
     ]
    }
   ],
   "source": [
    "print(type(soup.find_all('a')))"
   ]
  },
  {
   "cell_type": "code",
   "execution_count": 19,
   "id": "39972dfd",
   "metadata": {},
   "outputs": [
    {
     "name": "stdout",
     "output_type": "stream",
     "text": [
      "naver\n",
      "google\n",
      "daum\n"
     ]
    }
   ],
   "source": [
    "site_names = soup.find_all('a')\n",
    "for site in site_names:\n",
    "    print(site.get_text())"
   ]
  },
  {
   "cell_type": "code",
   "execution_count": 22,
   "id": "0c10ba52",
   "metadata": {},
   "outputs": [
    {
     "name": "stdout",
     "output_type": "stream",
     "text": [
      "['naver', 'google', 'daum']\n"
     ]
    }
   ],
   "source": [
    "texts = [site.get_text() for site in soup.find_all('a')]\n",
    "print(texts)"
   ]
  },
  {
   "cell_type": "code",
   "execution_count": 24,
   "id": "e86bb8b1",
   "metadata": {},
   "outputs": [],
   "source": [
    "soup2 = BeautifulSoup(\"\"\"\n",
    "\t<html>\n",
    "\t <head>\n",
    "\t  <title>작품과 작가 모음</title>\n",
    "\t </head>\n",
    "\t <body>\n",
    "\t  <h1>책 정보</h1>\n",
    "\t  <p id=\"book_title\">토지</p>\n",
    "\t  <p id=\"author\">박경리</p>\n",
    "\t\n",
    "\t  <p id=\"book_title\">태백산맥</p>\n",
    "\t  <p id=\"author\">조정래</p>\n",
    "\t\n",
    "\t  <p id=\"book_title\">감옥으로부터의 사색</p>\n",
    "\t  <p id=\"author\">신영복</p>\n",
    "\t </body>\n",
    "\t</html>\n",
    "\"\"\", 'lxml')"
   ]
  },
  {
   "cell_type": "code",
   "execution_count": 25,
   "id": "e4e90f5b",
   "metadata": {},
   "outputs": [
    {
     "name": "stdout",
     "output_type": "stream",
     "text": [
      "<title>작품과 작가 모음</title>\n"
     ]
    }
   ],
   "source": [
    "print(soup2.title) # unique tag"
   ]
  },
  {
   "cell_type": "code",
   "execution_count": 26,
   "id": "457e2e15",
   "metadata": {},
   "outputs": [
    {
     "name": "stdout",
     "output_type": "stream",
     "text": [
      "<body>\n",
      "<h1>책 정보</h1>\n",
      "<p id=\"book_title\">토지</p>\n",
      "<p id=\"author\">박경리</p>\n",
      "<p id=\"book_title\">태백산맥</p>\n",
      "<p id=\"author\">조정래</p>\n",
      "<p id=\"book_title\">감옥으로부터의 사색</p>\n",
      "<p id=\"author\">신영복</p>\n",
      "</body>\n"
     ]
    }
   ],
   "source": [
    "print(soup2.body)"
   ]
  },
  {
   "cell_type": "code",
   "execution_count": 33,
   "id": "8301376b",
   "metadata": {},
   "outputs": [
    {
     "name": "stdout",
     "output_type": "stream",
     "text": [
      "[<p id=\"book_title\">토지</p>, <p id=\"book_title\">태백산맥</p>, <p id=\"book_title\">감옥으로부터의 사색</p>]\n"
     ]
    }
   ],
   "source": [
    "print(soup2.find_all('p', {'id':'book_title'}))"
   ]
  },
  {
   "cell_type": "code",
   "execution_count": 28,
   "id": "72303d35",
   "metadata": {},
   "outputs": [
    {
     "name": "stdout",
     "output_type": "stream",
     "text": [
      "[<p id=\"author\">박경리</p>, <p id=\"author\">조정래</p>, <p id=\"author\">신영복</p>]\n"
     ]
    }
   ],
   "source": [
    "print(soup2.find_all('p',{'id':'author'}))"
   ]
  },
  {
   "cell_type": "code",
   "execution_count": 38,
   "id": "e4d06195",
   "metadata": {},
   "outputs": [
    {
     "name": "stdout",
     "output_type": "stream",
     "text": [
      "토지/박경리\n",
      "태백산맥/조정래\n",
      "감옥으로부터의 사색/신영복\n"
     ]
    }
   ],
   "source": [
    "titles = soup2.find_all('p', {'id':'book_title'})\n",
    "authors = soup2.find_all('p', {'id':'author'})\n",
    "for title, author in zip(titles, authors):\n",
    "    print(title.get_text() + '/' + author.get_text())"
   ]
  },
  {
   "cell_type": "code",
   "execution_count": 41,
   "id": "bd5ef691",
   "metadata": {},
   "outputs": [
    {
     "name": "stdout",
     "output_type": "stream",
     "text": [
      "[<body>\n",
      "<h1>책 정보</h1>\n",
      "<p id=\"book_title\">토지</p>\n",
      "<p id=\"author\">박경리</p>\n",
      "<p id=\"book_title\">태백산맥</p>\n",
      "<p id=\"author\">조정래</p>\n",
      "<p id=\"book_title\">감옥으로부터의 사색</p>\n",
      "<p id=\"author\">신영복</p>\n",
      "</body>]\n"
     ]
    }
   ],
   "source": [
    "# CSS Selecter 이용\n",
    "print(soup2.select('body'))"
   ]
  },
  {
   "cell_type": "code",
   "execution_count": 42,
   "id": "93cd784a",
   "metadata": {},
   "outputs": [
    {
     "name": "stdout",
     "output_type": "stream",
     "text": [
      "[<body>\n",
      "<h1>책 정보</h1>\n",
      "<p id=\"book_title\">토지</p>\n",
      "<p id=\"author\">박경리</p>\n",
      "<p id=\"book_title\">태백산맥</p>\n",
      "<p id=\"author\">조정래</p>\n",
      "<p id=\"book_title\">감옥으로부터의 사색</p>\n",
      "<p id=\"author\">신영복</p>\n",
      "</body>]\n"
     ]
    }
   ],
   "source": [
    "# CSS Selecter 이용\n",
    "print(soup2.select('body'))"
   ]
  },
  {
   "cell_type": "code",
   "execution_count": 44,
   "id": "0d3440e6",
   "metadata": {},
   "outputs": [
    {
     "name": "stdout",
     "output_type": "stream",
     "text": [
      "[<p id=\"book_title\">토지</p>, <p id=\"author\">박경리</p>, <p id=\"book_title\">태백산맥</p>, <p id=\"author\">조정래</p>, <p id=\"book_title\">감옥으로부터의 사색</p>, <p id=\"author\">신영복</p>]\n"
     ]
    }
   ],
   "source": [
    "# CSS Selecter 이용\n",
    "print(soup2.select('body p'))"
   ]
  },
  {
   "cell_type": "code",
   "execution_count": 45,
   "id": "2ada2c21",
   "metadata": {},
   "outputs": [
    {
     "name": "stdout",
     "output_type": "stream",
     "text": [
      "[<p id=\"book_title\">토지</p>, <p id=\"book_title\">태백산맥</p>, <p id=\"book_title\">감옥으로부터의 사색</p>]\n"
     ]
    }
   ],
   "source": [
    "# CSS Selecter 이용\n",
    "print(soup2.select('p#book_title')) # # is id,"
   ]
  },
  {
   "cell_type": "code",
   "execution_count": 46,
   "id": "8a1aadfb",
   "metadata": {},
   "outputs": [],
   "source": [
    "html = \"\"\"\n",
    "<!doctype html>\n",
    "<html>\n",
    "<head>\n",
    "<meta charset=\"utf-8\">\n",
    "<title>사이트 모음</title>\n",
    "</head>\n",
    "<body>\n",
    "<p id=\"title\">\n",
    "<b>자주 가는 사이트 모음</b>\n",
    "</p>\n",
    "<p id=\"contents\">이곳은 자주 가는 사이트를 모아둔 곳입니다.</p>\n",
    "<a href=\"http://www.naver.com\" class=\"portal\" id=\"naver\">네이버</a> <br>\n",
    "<a href=\"https://www.google.com\" class=\"search\" id=\"google\">구글</a> <br>\n",
    "<a href=\"http://www.daum.net\" class=\"portal\" id=\"daum\">다음</a> <br>\n",
    "<a href=\"http://www.nl.go.kr\" class=\"government\" id=\"nl\">국립중앙도서관</a>\n",
    "</body>\n",
    "</html>\n",
    "\"\"\""
   ]
  },
  {
   "cell_type": "code",
   "execution_count": 47,
   "id": "743b4a65",
   "metadata": {},
   "outputs": [],
   "source": [
    "soup3 = BeautifulSoup(html, 'lxml')"
   ]
  },
  {
   "cell_type": "code",
   "execution_count": 48,
   "id": "321f77c0",
   "metadata": {},
   "outputs": [
    {
     "name": "stdout",
     "output_type": "stream",
     "text": [
      "[<a class=\"portal\" href=\"http://www.naver.com\" id=\"naver\">네이버</a>, <a class=\"portal\" href=\"http://www.daum.net\" id=\"daum\">다음</a>]\n"
     ]
    }
   ],
   "source": [
    "print(soup3.select('a.portal'))"
   ]
  },
  {
   "cell_type": "code",
   "execution_count": 49,
   "id": "842bd901",
   "metadata": {},
   "outputs": [
    {
     "name": "stdout",
     "output_type": "stream",
     "text": [
      "[<a class=\"portal\" href=\"http://www.naver.com\" id=\"naver\">네이버</a>, <a class=\"search\" href=\"https://www.google.com\" id=\"google\">구글</a>, <a class=\"portal\" href=\"http://www.daum.net\" id=\"daum\">다음</a>, <a class=\"government\" href=\"http://www.nl.go.kr\" id=\"nl\">국립중앙도서관</a>]\n"
     ]
    }
   ],
   "source": [
    "print(soup3.select('html body a'))"
   ]
  },
  {
   "cell_type": "code",
   "execution_count": 50,
   "id": "31b05909",
   "metadata": {},
   "outputs": [
    {
     "name": "stdout",
     "output_type": "stream",
     "text": [
      "[<a class=\"portal\" href=\"http://www.naver.com\" id=\"naver\">네이버</a>, <a class=\"search\" href=\"https://www.google.com\" id=\"google\">구글</a>, <a class=\"portal\" href=\"http://www.daum.net\" id=\"daum\">다음</a>, <a class=\"government\" href=\"http://www.nl.go.kr\" id=\"nl\">국립중앙도서관</a>]\n"
     ]
    }
   ],
   "source": [
    " print(soup3.select('html a'))"
   ]
  },
  {
   "cell_type": "code",
   "execution_count": null,
   "id": "27d96c4a",
   "metadata": {},
   "outputs": [],
   "source": []
  }
 ],
 "metadata": {
  "kernelspec": {
   "display_name": "Python 3 (ipykernel)",
   "language": "python",
   "name": "python3"
  },
  "language_info": {
   "codemirror_mode": {
    "name": "ipython",
    "version": 3
   },
   "file_extension": ".py",
   "mimetype": "text/x-python",
   "name": "python",
   "nbconvert_exporter": "python",
   "pygments_lexer": "ipython3",
   "version": "3.8.13"
  }
 },
 "nbformat": 4,
 "nbformat_minor": 5
}
