{
 "cells": [
  {
   "cell_type": "code",
   "execution_count": 1,
   "id": "f0b178f6",
   "metadata": {},
   "outputs": [],
   "source": [
    "from bs4 import BeautifulSoup\n",
    "import requests\n",
    "from selenium import webdriver\n",
    "from selenium.webdriver.chrome.service import Service\n",
    "from selenium.webdriver.common.by import By"
   ]
  },
  {
   "cell_type": "code",
   "execution_count": 2,
   "id": "1189ef39",
   "metadata": {},
   "outputs": [],
   "source": [
    "url = 'https://vibe.naver.com/chart/total'"
   ]
  },
  {
   "cell_type": "code",
   "execution_count": 3,
   "id": "b108399c",
   "metadata": {},
   "outputs": [],
   "source": [
    "driver = webdriver.Chrome(service = Service('driver/chromedriver'))\n",
    "driver.get(url)"
   ]
  },
  {
   "cell_type": "code",
   "execution_count": 4,
   "id": "19766df7",
   "metadata": {},
   "outputs": [],
   "source": [
    "xpath = \"\"\"//*[@id=\"app\"]/div[2]/div/div/a[2]\"\"\"\n",
    "driver.find_element(By.XPATH, xpath).click()\n"
   ]
  },
  {
   "cell_type": "code",
   "execution_count": 22,
   "id": "f5e173a1",
   "metadata": {},
   "outputs": [],
   "source": [
    "driver.close()"
   ]
  },
  {
   "cell_type": "code",
   "execution_count": 5,
   "id": "9c4c41ae",
   "metadata": {},
   "outputs": [
    {
     "name": "stdout",
     "output_type": "stream",
     "text": [
      "<class 'bs4.BeautifulSoup'>\n"
     ]
    }
   ],
   "source": [
    "html = driver.page_source\n",
    "vibe_top_soup = BeautifulSoup(html, 'lxml')\n",
    "print(type(vibe_top_soup))"
   ]
  },
  {
   "cell_type": "code",
   "execution_count": 6,
   "id": "0f654d87",
   "metadata": {},
   "outputs": [
    {
     "name": "stdout",
     "output_type": "stream",
     "text": [
      "[<a class=\"link_text\" href=\"/track/55802116\" title=\"그때 그 순간 그대로 (그그그)\">그때 그 순간 그대로 (그그그)</a>, <a class=\"link_text\" href=\"/track/54729108\" title=\"LOVE DIVE\">LOVE DIVE</a>, <a class=\"link_text\" href=\"/track/55802117\" title=\"보고싶었어\">보고싶었어</a>, <a class=\"link_text\" href=\"/track/55430240\" title=\"POP!\">POP!</a>, <a class=\"link_text\" href=\"/track/54969408\" title=\"나의 X에게\">나의 X에게</a>, <a class=\"link_text\" href=\"/track/54516332\" title=\"TOMBOY\">TOMBOY</a>, <a class=\"link_text\" href=\"/track/55003835\" title=\"That That (prod. ＆ feat. SUGA of BTS)\">That That (prod. ＆ feat. SUGA of BTS)</a>, <a class=\"link_text\" href=\"/track/54935584\" title=\"정이라고 하자 (Feat. 10CM)\">정이라고 하자 (Feat. 10CM)</a>, <a class=\"link_text\" href=\"/track/55248714\" title=\"Girls\">Girls</a>, <a class=\"link_text\" href=\"/track/53934759\" title=\"사랑인가 봐\">사랑인가 봐</a>]\n"
     ]
    }
   ],
   "source": [
    "titles_raw = vibe_top_soup.select('span.inner_cell a')\n",
    "print(titles_raw[:10])"
   ]
  },
  {
   "cell_type": "code",
   "execution_count": 7,
   "id": "c3033b28",
   "metadata": {},
   "outputs": [
    {
     "name": "stdout",
     "output_type": "stream",
     "text": [
      "100\n",
      "['그때 그 순간 그대로 (그그그)', 'LOVE DIVE', '보고싶었어', 'POP!', '나의 X에게', 'TOMBOY', 'That That (prod. ＆ feat. SUGA of BTS)', '정이라고 하자 (Feat. 10CM)', 'Girls', '사랑인가 봐']\n"
     ]
    }
   ],
   "source": [
    "titles = [element.get_text() for element in titles_raw]\n",
    "print(len(titles))\n",
    "print(titles[:10])"
   ]
  },
  {
   "cell_type": "code",
   "execution_count": 21,
   "id": "544d25f0",
   "metadata": {},
   "outputs": [
    {
     "name": "stdout",
     "output_type": "stream",
     "text": [
      "100\n",
      "['WSG워너비(가야G)', 'IVE(아이브)', 'WSG워너비(4FIRE)', '나연 (TWICE)', '경서', '(여자) 아이들', '싸이 (PSY)', 'BIG Naughty (서동현)', 'aespa', '멜로망스(Melomance)', 'ITZY(있지)', 'LE SSERAFIM (르세라핌)', '이무진', '선미', 'aespa', '10CM', 'WSG워너비(오아시소)', '김민석(멜로망스)', 'IVE(아이브)', 'BIGBANG (빅뱅)', 'Red Velvet (레드벨벳)', '성시경', 'sokodomo', 'The Kid LAROI, Justin Bieber', \"BE'O(비오)\", 'MSG워너비(M.O.M)', '임영웅', '아이유(IU)', '다비치', 'WINNER', '임영웅', '청하', 'Charlie Puth, 정국, 방탄소년단', 'AKMU(악뮤)', 'aespa', '경서', '태연 (TAEYEON)', '볼빨간사춘기', 'Charlie Puth', 'YENA(최예나)', 'STAYC(스테이씨)', '케이시(Kassy)', \"BE'O(비오)\", '임영웅', '경서예지, 전건호', '박재범', 'Lizzo', '아이유(IU)', 'Ed Sheeran', '태연 (TAEYEON)', '주시크 (Joosiq)', '아이유(IU)', '방탄소년단', 'Harry Styles', '헤이즈 (Heize)', '아이유(IU)', '멜로망스(Melomance)', '방탄소년단', '방탄소년단', '(여자) 아이들', '로꼬, 화사(Hwa Sa)', '프로미스나인', '탑현', '이무진', 'STAYC(스테이씨)', '케이시(Kassy)', '지코 (ZICO)', 'AKMU(악뮤)', 'aespa', '볼빨간사춘기', '브레이브걸스(Brave Girls)', '제시(Jessi)', '자우림', 'MSG워너비(M.O.M)', 'WSG워너비', '김종국, KCM', '방탄소년단', '폴킴', 'WSG워너비 조별경연(비로봉)', '조유리', '임영웅', '아이유(IU)', '오마이걸(OH MY GIRL)', '10CM', '아이유(IU)', '싸이 (PSY)', '아이유(IU)', '주시크 (Joosiq)', '수지', '헤이즈 (Heize)', '디핵(D-Hack), PATEKO(파테코)', '윤하', '산들', '폴킴', 'BIG Naughty (서동현)', 'WSG워너비 조별경연(대청봉)', 'aespa', '세븐틴', '세븐틴', 'Coldplay, 방탄소년단']\n"
     ]
    }
   ],
   "source": [
    "singers_raw = vibe_top_soup.select('td.artist')\n",
    "\n",
    "singers = [element.get_text() for element in singers_raw]\n",
    "print(len(singers))\n",
    "print(singers)"
   ]
  },
  {
   "cell_type": "code",
   "execution_count": 32,
   "id": "e22dd71a",
   "metadata": {},
   "outputs": [],
   "source": [
    "ranking_raw = vibe_top_soup.select('td.rank')\n",
    "rankings = [element.get_text()[0] for element in ranking_raw]\n"
   ]
  },
  {
   "cell_type": "code",
   "execution_count": 52,
   "id": "f064b279",
   "metadata": {},
   "outputs": [],
   "source": [
    "album_raw = vibe_top_soup.select('td.album')\n",
    "albums = [element.get_text() for element in album_raw]\n",
    "# print(albums)"
   ]
  },
  {
   "cell_type": "code",
   "execution_count": 53,
   "id": "b6befb75",
   "metadata": {},
   "outputs": [],
   "source": [
    "import pandas as pd\n",
    "import numpy as np"
   ]
  },
  {
   "cell_type": "code",
   "execution_count": 54,
   "id": "508b29ec",
   "metadata": {},
   "outputs": [],
   "source": [
    "new_list = pd.DataFrame({'순위':rankings,'제목':titles, '가수':singers, '앨범':albums},\n",
    "                        index=np.arange(1,101))\n",
    "new_list = pd.DataFrame(new_list).set_index('순위')"
   ]
  },
  {
   "cell_type": "code",
   "execution_count": 55,
   "id": "bc3e743c",
   "metadata": {},
   "outputs": [
    {
     "data": {
      "text/html": [
       "<div>\n",
       "<style scoped>\n",
       "    .dataframe tbody tr th:only-of-type {\n",
       "        vertical-align: middle;\n",
       "    }\n",
       "\n",
       "    .dataframe tbody tr th {\n",
       "        vertical-align: top;\n",
       "    }\n",
       "\n",
       "    .dataframe thead th {\n",
       "        text-align: right;\n",
       "    }\n",
       "</style>\n",
       "<table border=\"1\" class=\"dataframe\">\n",
       "  <thead>\n",
       "    <tr style=\"text-align: right;\">\n",
       "      <th></th>\n",
       "      <th>제목</th>\n",
       "      <th>가수</th>\n",
       "      <th>앨범</th>\n",
       "    </tr>\n",
       "    <tr>\n",
       "      <th>순위</th>\n",
       "      <th></th>\n",
       "      <th></th>\n",
       "      <th></th>\n",
       "    </tr>\n",
       "  </thead>\n",
       "  <tbody>\n",
       "    <tr>\n",
       "      <th>1</th>\n",
       "      <td>그때 그 순간 그대로 (그그그)</td>\n",
       "      <td>WSG워너비(가야G)</td>\n",
       "      <td>WSG워너비 1집</td>\n",
       "    </tr>\n",
       "    <tr>\n",
       "      <th>2</th>\n",
       "      <td>LOVE DIVE</td>\n",
       "      <td>IVE(아이브)</td>\n",
       "      <td>LOVE DIVE</td>\n",
       "    </tr>\n",
       "    <tr>\n",
       "      <th>3</th>\n",
       "      <td>보고싶었어</td>\n",
       "      <td>WSG워너비(4FIRE)</td>\n",
       "      <td>WSG워너비 1집</td>\n",
       "    </tr>\n",
       "    <tr>\n",
       "      <th>4</th>\n",
       "      <td>POP!</td>\n",
       "      <td>나연 (TWICE)</td>\n",
       "      <td>IM NAYEON</td>\n",
       "    </tr>\n",
       "    <tr>\n",
       "      <th>5</th>\n",
       "      <td>나의 X에게</td>\n",
       "      <td>경서</td>\n",
       "      <td>나의 X에게</td>\n",
       "    </tr>\n",
       "    <tr>\n",
       "      <th>...</th>\n",
       "      <td>...</td>\n",
       "      <td>...</td>\n",
       "      <td>...</td>\n",
       "    </tr>\n",
       "    <tr>\n",
       "      <th>9</th>\n",
       "      <td>YOU AND I</td>\n",
       "      <td>WSG워너비 조별경연(대청봉)</td>\n",
       "      <td>WSG워너비 조별경연</td>\n",
       "    </tr>\n",
       "    <tr>\n",
       "      <th>9</th>\n",
       "      <td>Savage</td>\n",
       "      <td>aespa</td>\n",
       "      <td>Savage - The 1st Mini Album</td>\n",
       "    </tr>\n",
       "    <tr>\n",
       "      <th>9</th>\n",
       "      <td>_WORLD</td>\n",
       "      <td>세븐틴</td>\n",
       "      <td>SEVENTEEN 4th Album  Repackage 'SECTOR 17'</td>\n",
       "    </tr>\n",
       "    <tr>\n",
       "      <th>9</th>\n",
       "      <td>HOT</td>\n",
       "      <td>세븐틴</td>\n",
       "      <td>SEVENTEEN 4th Album 'Face the Sun'</td>\n",
       "    </tr>\n",
       "    <tr>\n",
       "      <th>1</th>\n",
       "      <td>My Universe</td>\n",
       "      <td>Coldplay, 방탄소년단</td>\n",
       "      <td>My Universe</td>\n",
       "    </tr>\n",
       "  </tbody>\n",
       "</table>\n",
       "<p>100 rows × 3 columns</p>\n",
       "</div>"
      ],
      "text/plain": [
       "                   제목                가수  \\\n",
       "순위                                        \n",
       "1   그때 그 순간 그대로 (그그그)       WSG워너비(가야G)   \n",
       "2           LOVE DIVE          IVE(아이브)   \n",
       "3               보고싶었어     WSG워너비(4FIRE)   \n",
       "4                POP!        나연 (TWICE)   \n",
       "5              나의 X에게                경서   \n",
       "..                ...               ...   \n",
       "9           YOU AND I  WSG워너비 조별경연(대청봉)   \n",
       "9              Savage             aespa   \n",
       "9              _WORLD               세븐틴   \n",
       "9                 HOT               세븐틴   \n",
       "1         My Universe   Coldplay, 방탄소년단   \n",
       "\n",
       "                                            앨범  \n",
       "순위                                              \n",
       "1                                    WSG워너비 1집  \n",
       "2                                    LOVE DIVE  \n",
       "3                                    WSG워너비 1집  \n",
       "4                                    IM NAYEON  \n",
       "5                                       나의 X에게  \n",
       "..                                         ...  \n",
       "9                                  WSG워너비 조별경연  \n",
       "9                  Savage - The 1st Mini Album  \n",
       "9   SEVENTEEN 4th Album  Repackage 'SECTOR 17'  \n",
       "9           SEVENTEEN 4th Album 'Face the Sun'  \n",
       "1                                  My Universe  \n",
       "\n",
       "[100 rows x 3 columns]"
      ]
     },
     "execution_count": 55,
     "metadata": {},
     "output_type": "execute_result"
    }
   ],
   "source": [
    "new_list"
   ]
  },
  {
   "cell_type": "code",
   "execution_count": null,
   "id": "5c40f4fa",
   "metadata": {},
   "outputs": [],
   "source": []
  }
 ],
 "metadata": {
  "kernelspec": {
   "display_name": "Python 3 (ipykernel)",
   "language": "python",
   "name": "python3"
  },
  "language_info": {
   "codemirror_mode": {
    "name": "ipython",
    "version": 3
   },
   "file_extension": ".py",
   "mimetype": "text/x-python",
   "name": "python",
   "nbconvert_exporter": "python",
   "pygments_lexer": "ipython3",
   "version": "3.8.13"
  }
 },
 "nbformat": 4,
 "nbformat_minor": 5
}
