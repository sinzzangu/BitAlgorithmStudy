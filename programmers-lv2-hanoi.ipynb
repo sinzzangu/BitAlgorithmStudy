{
 "cells": [
  {
   "cell_type": "code",
   "execution_count": 28,
   "id": "6a622474",
   "metadata": {},
   "outputs": [],
   "source": [
    "def solution(n):\n",
    "    return hanoi(n,1,2,3)\n",
    "        \n",
    "        \n",
    "def hanoi(n,sta,bet,end):\n",
    "    if n==1:\n",
    "        return [[sta,end]]\n",
    "    else:\n",
    "        return hanoi(n-1,sta,end,bet) + [[sta,end]] + hanoi(n-1,bet,sta,end)"
   ]
  },
  {
   "cell_type": "code",
   "execution_count": 29,
   "id": "0fe8764b",
   "metadata": {},
   "outputs": [
    {
     "data": {
      "text/plain": [
       "[[1, 3], [1, 2], [3, 2], [1, 3], [2, 1], [2, 3], [1, 3]]"
      ]
     },
     "execution_count": 29,
     "metadata": {},
     "output_type": "execute_result"
    }
   ],
   "source": [
    "solution(3)"
   ]
  },
  {
   "cell_type": "code",
   "execution_count": null,
   "id": "47830c39",
   "metadata": {},
   "outputs": [],
   "source": []
  }
 ],
 "metadata": {
  "kernelspec": {
   "display_name": "Python 3 (ipykernel)",
   "language": "python",
   "name": "python3"
  },
  "language_info": {
   "codemirror_mode": {
    "name": "ipython",
    "version": 3
   },
   "file_extension": ".py",
   "mimetype": "text/x-python",
   "name": "python",
   "nbconvert_exporter": "python",
   "pygments_lexer": "ipython3",
   "version": "3.8.13"
  }
 },
 "nbformat": 4,
 "nbformat_minor": 5
}
