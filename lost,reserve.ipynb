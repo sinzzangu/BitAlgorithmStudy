{
 "cells": [
  {
   "cell_type": "code",
   "execution_count": 1,
   "id": "00647c67",
   "metadata": {},
   "outputs": [
    {
     "name": "stdout",
     "output_type": "stream",
     "text": [
      "{2, 4}\n",
      "{1, 3, 5}\n",
      "5\n"
     ]
    }
   ],
   "source": [
    "n= 5\n",
    "lost = [2,4]\n",
    "reserve = [1,3,5]\n",
    "answer = 0\n",
    "lost_set = set(lost) - set(reserve)\n",
    "print(lost_set)\n",
    "reserve_set = set(reserve) - set(lost)\n",
    "print(reserve_set)\n",
    "for i in reserve_set:\n",
    "    if i-1 in lost_set:\n",
    "        lost_set.remove(i-1)\n",
    "    elif i+1 in lost_set:\n",
    "        lost_set.remove(i+1)\n",
    "\n",
    "answer = n - len(lost_set)\n",
    "print(answer)\n"
   ]
  }
 ],
 "metadata": {
  "kernelspec": {
   "display_name": "Python 3 (ipykernel)",
   "language": "python",
   "name": "python3"
  },
  "language_info": {
   "codemirror_mode": {
    "name": "ipython",
    "version": 3
   },
   "file_extension": ".py",
   "mimetype": "text/x-python",
   "name": "python",
   "nbconvert_exporter": "python",
   "pygments_lexer": "ipython3",
   "version": "3.8.13"
  }
 },
 "nbformat": 4,
 "nbformat_minor": 5
}
