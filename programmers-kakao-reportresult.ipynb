{
 "cells": [
  {
   "cell_type": "code",
   "execution_count": null,
   "id": "8c34edbe",
   "metadata": {},
   "outputs": [],
   "source": [
    "def solution(id_list, report, k):\n",
    "    new_report=set(report)\n",
    "    enough_report=[]\n",
    "    not_enough_report=[]\n",
    "    \n",
    "    # 전체 0인 아이디별 딕셔너리\n",
    "    id_dict={}\n",
    "    id_dict2={}\n",
    "    for i in id_list:\n",
    "        id_dict[i]=0\n",
    "        id_dict2[i]=0\n",
    "    \n",
    "    #신고당한 횟수 아이디별 카운트 (딕셔너리1 저장)\n",
    "    for i in new_report:\n",
    "        id_dict[i.split(' ')[1]]+=1\n",
    "\n",
    "    \n",
    "    # 신고자 횟수 카운트, 신고당한 횟수가 적다면 제외, 딕셔너리2 저장\n",
    "    for i in new_report:\n",
    "        if id_dict[i.split(' ')[1]]>=k:\n",
    "            id_dict2[i.split(' ')[0]]+=1\n",
    "    \n",
    "    answer=[]\n",
    "    for i in id_list :\n",
    "        answer.append(id_dict2[i])\n",
    "\n",
    "    return answer"
   ]
  },
  {
   "cell_type": "code",
   "execution_count": null,
   "id": "aa5e8a01",
   "metadata": {},
   "outputs": [],
   "source": [
    "solution([\"muzi\", \"frodo\", \"apeach\", \"neo\"], [\"muzi frodo\",\"apeach frodo\",\"frodo neo\",\"muzi neo\",\"apeach muzi\"],2)"
   ]
  },
  {
   "cell_type": "code",
   "execution_count": null,
   "id": "733b4a50",
   "metadata": {},
   "outputs": [],
   "source": []
  }
 ],
 "metadata": {
  "kernelspec": {
   "display_name": "Python 3 (ipykernel)",
   "language": "python",
   "name": "python3"
  },
  "language_info": {
   "codemirror_mode": {
    "name": "ipython",
    "version": 3
   },
   "file_extension": ".py",
   "mimetype": "text/x-python",
   "name": "python",
   "nbconvert_exporter": "python",
   "pygments_lexer": "ipython3",
   "version": "3.8.13"
  }
 },
 "nbformat": 4,
 "nbformat_minor": 5
}
