{
 "cells": [
  {
   "cell_type": "code",
   "execution_count": 36,
   "id": "61789d25",
   "metadata": {},
   "outputs": [],
   "source": [
    "def solution(n, arr1, arr2):\n",
    "    new_arr1=[]*n\n",
    "    new_arr2=[]*n\n",
    "    answer=[\"\"]*n\n",
    "    \n",
    "    for i in range(n):\n",
    "        new_arr1.append(list(format(arr1[i],'b').zfill(n)))\n",
    "        new_arr2.append(list(format(arr2[i],'b').zfill(n)))\n",
    "        for j in range(n):\n",
    "            if (new_arr1[i][j]=='1' or new_arr2[i][j]=='1'):\n",
    "                answer[i]+=\" \"\n",
    "            else:\n",
    "                answer[i]+=\"#\"\n",
    "    \n",
    "        \n",
    "        \n",
    "        \n",
    "    return answer"
   ]
  },
  {
   "cell_type": "code",
   "execution_count": 37,
   "id": "cb6abaff",
   "metadata": {},
   "outputs": [
    {
     "data": {
      "text/plain": [
       "[' #  #', '# #  ', '###  ', '#  # ', ' # ##']"
      ]
     },
     "execution_count": 37,
     "metadata": {},
     "output_type": "execute_result"
    }
   ],
   "source": [
    "solution(5,[9, 20, 28, 18, 11],[30, 1, 21, 17, 28])"
   ]
  },
  {
   "cell_type": "code",
   "execution_count": null,
   "id": "502bf6fe",
   "metadata": {},
   "outputs": [],
   "source": []
  }
 ],
 "metadata": {
  "kernelspec": {
   "display_name": "Python 3 (ipykernel)",
   "language": "python",
   "name": "python3"
  },
  "language_info": {
   "codemirror_mode": {
    "name": "ipython",
    "version": 3
   },
   "file_extension": ".py",
   "mimetype": "text/x-python",
   "name": "python",
   "nbconvert_exporter": "python",
   "pygments_lexer": "ipython3",
   "version": "3.8.13"
  }
 },
 "nbformat": 4,
 "nbformat_minor": 5
}
