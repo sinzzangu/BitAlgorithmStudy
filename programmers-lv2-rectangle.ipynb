{
 "cells": [
  {
   "cell_type": "code",
   "execution_count": 10,
   "id": "ef0df34a",
   "metadata": {},
   "outputs": [],
   "source": [
    "def solution(w,h):\n",
    "    total=0\n",
    "    a=max(w,h)\n",
    "    b=min(w,h)\n",
    "    for i in range(1,(b//2)+1):\n",
    "        if i*a/b==int(i*a/b):\n",
    "            total=((i*a/b)+i-1)*b/i\n",
    "            break\n",
    "\n",
    "    if total==0:\n",
    "        total=w+h-1\n",
    "    \n",
    "    return w*h-total"
   ]
  },
  {
   "cell_type": "code",
   "execution_count": 11,
   "id": "53a130e6",
   "metadata": {},
   "outputs": [
    {
     "data": {
      "text/plain": [
       "80.0"
      ]
     },
     "execution_count": 11,
     "metadata": {},
     "output_type": "execute_result"
    }
   ],
   "source": [
    "solution(8,12)"
   ]
  },
  {
   "cell_type": "code",
   "execution_count": null,
   "id": "1ae6da61",
   "metadata": {},
   "outputs": [],
   "source": []
  }
 ],
 "metadata": {
  "kernelspec": {
   "display_name": "Python 3 (ipykernel)",
   "language": "python",
   "name": "python3"
  },
  "language_info": {
   "codemirror_mode": {
    "name": "ipython",
    "version": 3
   },
   "file_extension": ".py",
   "mimetype": "text/x-python",
   "name": "python",
   "nbconvert_exporter": "python",
   "pygments_lexer": "ipython3",
   "version": "3.8.13"
  }
 },
 "nbformat": 4,
 "nbformat_minor": 5
}
