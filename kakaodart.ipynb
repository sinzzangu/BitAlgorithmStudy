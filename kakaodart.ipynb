{
 "cells": [
  {
   "cell_type": "code",
   "execution_count": null,
   "id": "f9014205",
   "metadata": {},
   "outputs": [],
   "source": [
    "def solution(dartResult):\n",
    "    sol_sp = list(dartResult)\n",
    "    sol_sp.append(\"f\")\n",
    "    n=0\n",
    "    scoreboard=[0,0,0,0]\n",
    "    \n",
    "    for i in range(1,4):\n",
    "        score=int(sol_sp[n])\n",
    "        n+=1\n",
    "        if (sol_sp[n].isdigit()):\n",
    "            score=10\n",
    "            n+=1\n",
    "        if (sol_sp[n]==\"S\"):\n",
    "            n+=1\n",
    "        elif (sol_sp[n]==\"D\"):\n",
    "            score=score*score\n",
    "            n+=1\n",
    "        elif (sol_sp[n]==\"T\"):\n",
    "            score=score*score*score\n",
    "            n+=1\n",
    "        if (sol_sp[n].isdigit()):\n",
    "            scoreboard[i]=score\n",
    "        else :\n",
    "            if (sol_sp[n]==\"*\"):\n",
    "                scoreboard[i-1]=scoreboard[i-1]*2\n",
    "                scoreboard[i]=score*2\n",
    "                n+=1\n",
    "            elif (sol_sp[n]==\"#\"):\n",
    "                scoreboard[i]=score*(-1)\n",
    "                n+=1\n",
    "            else :\n",
    "                scoreboard[i]=score\n",
    "                \n",
    "    answer=scoreboard[1]+scoreboard[2]+scoreboard[3]\n",
    "    return answer"
   ]
  },
  {
   "cell_type": "code",
   "execution_count": null,
   "id": "9099334c",
   "metadata": {},
   "outputs": [],
   "source": [
    "solution(\"1S2D*3T\")\n",
    "dartresult2 = \"1D2S#10S\"\n",
    "dartresult3 = \"1D2S0T\"\n",
    "dartresult4 = \"1S*2T*3S\"\n",
    "dartresult5 = \"1D#2S*3S\""
   ]
  },
  {
   "cell_type": "code",
   "execution_count": null,
   "id": "4aa7d6bb",
   "metadata": {},
   "outputs": [],
   "source": []
  }
 ],
 "metadata": {
  "kernelspec": {
   "display_name": "Python 3 (ipykernel)",
   "language": "python",
   "name": "python3"
  },
  "language_info": {
   "codemirror_mode": {
    "name": "ipython",
    "version": 3
   },
   "file_extension": ".py",
   "mimetype": "text/x-python",
   "name": "python",
   "nbconvert_exporter": "python",
   "pygments_lexer": "ipython3",
   "version": "3.8.13"
  }
 },
 "nbformat": 4,
 "nbformat_minor": 5
}
