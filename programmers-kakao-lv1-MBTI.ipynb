{
 "cells": [
  {
   "cell_type": "code",
   "execution_count": 10,
   "id": "c9e154fc",
   "metadata": {},
   "outputs": [],
   "source": [
    "def solution(survey, choices):\n",
    "    score = {'R':0,'T':0,'C':0,'F':0,'J':0,'M':0,'A':0,'N':0}\n",
    "    \n",
    "    for i in range(len(choices)):\n",
    "        if choices[i] < 4:\n",
    "            score[survey[i][0]] += 4-choices[i]\n",
    "            \n",
    "        elif choices[i] > 4:\n",
    "            score[survey[i][1]] += choices[i]-4\n",
    "            \n",
    "    answer = ''\n",
    "    if score['R'] >= score['T']:\n",
    "        answer += 'R'\n",
    "    else:\n",
    "        answer += 'T'\n",
    "\n",
    "    if score['C'] >= score['F']:\n",
    "        answer += 'C'\n",
    "    else:\n",
    "        answer += 'F'\n",
    "        \n",
    "    if score['J'] >= score['M']:\n",
    "        answer += 'J'\n",
    "    else:\n",
    "        answer += 'M'\n",
    "    \n",
    "    if score['A'] >= score['N']:\n",
    "        answer += 'A'\n",
    "    else:\n",
    "        answer += 'N'\n",
    "\n",
    "    return answer"
   ]
  },
  {
   "cell_type": "code",
   "execution_count": 11,
   "id": "1bf7e563",
   "metadata": {},
   "outputs": [
    {
     "name": "stdout",
     "output_type": "stream",
     "text": [
      "TCMA\n",
      "RCJA\n"
     ]
    }
   ],
   "source": [
    "print(solution([\"AN\", \"CF\", \"MJ\", \"RT\", \"NA\"],[5, 3, 2, 7, 5])) #TCMA\n",
    "print(solution([\"TR\", \"RT\", \"TR\"],[7, 1, 3])) # RCJA"
   ]
  },
  {
   "cell_type": "code",
   "execution_count": 51,
   "id": "26c67a72",
   "metadata": {},
   "outputs": [],
   "source": [
    "def solution(survey, choices):\n",
    "    score = {'RT':0,'CF':0,'JM':0,'AN':0,}\n",
    "    \n",
    "    for i in range(len(choices)):\n",
    "        \n",
    "        if not survey[i] in score.keys():\n",
    "            survey[i] = survey[i][::-1]\n",
    "            choices[i] = 8-choices[i]\n",
    "\n",
    "        score[survey[i]] += 4-choices[i]\n",
    "\n",
    "    answer = ''\n",
    "    for i in score.keys():\n",
    "        answer += i[score[i]<0]\n",
    "\n",
    "    return answer"
   ]
  },
  {
   "cell_type": "code",
   "execution_count": 52,
   "id": "e964c49c",
   "metadata": {},
   "outputs": [
    {
     "name": "stdout",
     "output_type": "stream",
     "text": [
      "TCMA\n",
      "RCJA\n"
     ]
    }
   ],
   "source": [
    "print(solution([\"AN\", \"CF\", \"MJ\", \"RT\", \"NA\"],[5, 3, 2, 7, 5])) #TCMA\n",
    "print(solution([\"TR\", \"RT\", \"TR\"],[7, 1, 3])) # RCJA"
   ]
  },
  {
   "cell_type": "code",
   "execution_count": null,
   "id": "6a225965",
   "metadata": {},
   "outputs": [],
   "source": []
  }
 ],
 "metadata": {
  "kernelspec": {
   "display_name": "Python 3 (ipykernel)",
   "language": "python",
   "name": "python3"
  },
  "language_info": {
   "codemirror_mode": {
    "name": "ipython",
    "version": 3
   },
   "file_extension": ".py",
   "mimetype": "text/x-python",
   "name": "python",
   "nbconvert_exporter": "python",
   "pygments_lexer": "ipython3",
   "version": "3.8.13"
  }
 },
 "nbformat": 4,
 "nbformat_minor": 5
}
