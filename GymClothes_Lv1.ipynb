{
 "cells": [
  {
   "cell_type": "code",
   "execution_count": null,
   "id": "3fc10c77",
   "metadata": {},
   "outputs": [],
   "source": [
    "def solution(n, lost, reserve):\n",
    "    answer = 0\n",
    "    \n",
    "    lost.sort()\n",
    "    reserve.sort()\n",
    "    \n",
    "    for i in lost[:]:\n",
    "        if(i in reserve):\n",
    "            lost.remove(i)\n",
    "            reserve.remove(i)\n",
    "            \n",
    "    for i in lost[:]:\n",
    "        if(i-1 in reserve):\n",
    "            lost.remove(i)\n",
    "            reserve.remove(i-1)\n",
    "            \n",
    "        elif(i+1 in reserve):\n",
    "            lost.remove(i)\n",
    "            reserve.remove(i+1)\n",
    "    \n",
    "    answer = n - len(lost)\n",
    "    \n",
    "    return answer"
   ]
  }
 ],
 "metadata": {
  "kernelspec": {
   "display_name": "Python 3 (ipykernel)",
   "language": "python",
   "name": "python3"
  },
  "language_info": {
   "codemirror_mode": {
    "name": "ipython",
    "version": 3
   },
   "file_extension": ".py",
   "mimetype": "text/x-python",
   "name": "python",
   "nbconvert_exporter": "python",
   "pygments_lexer": "ipython3",
   "version": "3.8.13"
  }
 },
 "nbformat": 4,
 "nbformat_minor": 5
}
