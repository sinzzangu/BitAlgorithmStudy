{
 "cells": [
  {
   "cell_type": "code",
   "execution_count": 2,
   "id": "7d820c15",
   "metadata": {},
   "outputs": [
    {
     "data": {
      "text/plain": [
       "9"
      ]
     },
     "execution_count": 2,
     "metadata": {},
     "output_type": "execute_result"
    }
   ],
   "source": [
    "absolutes = [4, 7, 12] \n",
    "signs= [True, False, True]\n",
    "\n",
    "for i in range(len(absolutes)):\n",
    "    if signs[i] == False :  \n",
    "            absolutes[i] = -absolutes[i]\n",
    "\n",
    "sum(absolutes)"
   ]
  },
  {
   "cell_type": "code",
   "execution_count": null,
   "id": "af27a8e6",
   "metadata": {},
   "outputs": [],
   "source": []
  }
 ],
 "metadata": {
  "kernelspec": {
   "display_name": "Python 3 (ipykernel)",
   "language": "python",
   "name": "python3"
  },
  "language_info": {
   "codemirror_mode": {
    "name": "ipython",
    "version": 3
   },
   "file_extension": ".py",
   "mimetype": "text/x-python",
   "name": "python",
   "nbconvert_exporter": "python",
   "pygments_lexer": "ipython3",
   "version": "3.8.13"
  }
 },
 "nbformat": 4,
 "nbformat_minor": 5
}
